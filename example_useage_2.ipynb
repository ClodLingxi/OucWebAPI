{
 "cells": [
  {
   "cell_type": "code",
   "id": "initial_id",
   "metadata": {
    "collapsed": true,
    "ExecuteTime": {
     "end_time": "2024-09-04T07:01:34.081499Z",
     "start_time": "2024-09-04T07:01:33.262059Z"
    }
   },
   "source": [
    "from data import Course\n",
    "from ouc_course_tool.core import TableFetcher, CourseFetcher, AccountValidation\n",
    "from ouc_course_tool.config import LoginConfig, CourseFetcherConfig, TableFetcherConfig\n",
    "from ouc_course_tool.data.courses import TableFetcherParams\n",
    "\n",
    "from tests.test_config import ConfigOfTest"
   ],
   "outputs": [],
   "execution_count": 1
  },
  {
   "metadata": {
    "ExecuteTime": {
     "end_time": "2024-09-04T07:01:36.968886Z",
     "start_time": "2024-09-04T07:01:34.097137Z"
    }
   },
   "cell_type": "code",
   "source": [
    "test_config = ConfigOfTest('./tests/test_resource/account_local.ini')\n",
    "tesseract_cmd_path = 'D:/Tools/Tesseract/tesseract.exe'\n",
    "\n",
    "login_config = LoginConfig(test_config.get_username(), test_config.get_password(), tesseract_cmd_path)\n",
    "session_id = AccountValidation(login_config).get_login_session_id()\n",
    "print(session_id)"
   ],
   "id": "45cf5210dab0601c",
   "outputs": [
    {
     "name": "stdout",
     "output_type": "stream",
     "text": [
      "DB60F606279053C987A97DB757753D5A\n"
     ]
    }
   ],
   "execution_count": 2
  },
  {
   "metadata": {
    "ExecuteTime": {
     "end_time": "2024-09-04T07:02:16.804654Z",
     "start_time": "2024-09-04T07:02:16.784666Z"
    }
   },
   "cell_type": "code",
   "source": [
    "def get_selection_view_from_session_id(session_id):\n",
    "    course_fetcher_config = CourseFetcherConfig(session_id=session_id)\n",
    "    course_fetcher = CourseFetcher(config=course_fetcher_config)\n",
    "    table_fetcher_config = TableFetcherConfig(session_id=session_id)\n",
    "    table_fetcher = TableFetcher(table_fetcher_config)\n",
    "    table_fetcher.set_search_param(TableFetcherParams(xh=test_config.get_username()))\n",
    "    \n",
    "    selection_number_list = table_fetcher.get_selection_number_list()\n",
    "    \n",
    "    over_flow = 0\n",
    "    for select_id in selection_number_list:\n",
    "        result: Course = course_fetcher.get_course_by_selection_id(select_id)\n",
    "        n1, n2 = int(result.limit), int(result.selected_count)\n",
    "        print(result.course_name, str(n1) + \"/\" + str(n2), \"!!!!!! \" + str(n2 - n1) if n1 < n2 else \"\")\n",
    "        over_flow += n2 - n1 if n1 < n2 else 0\n",
    "    print(over_flow)"
   ],
   "id": "231ccf24662d191f",
   "outputs": [],
   "execution_count": 6
  },
  {
   "metadata": {
    "ExecuteTime": {
     "end_time": "2024-09-04T07:02:22.026874Z",
     "start_time": "2024-09-04T07:02:18.102313Z"
    }
   },
   "cell_type": "code",
   "source": [
    "# session_id = \"\"\n",
    "get_selection_view_from_session_id(session_id)"
   ],
   "id": "22b44fd18411d561",
   "outputs": [
    {
     "name": "stdout",
     "output_type": "stream",
     "text": [
      "毛泽东思想和中国特色社会主义理论体系概论 160/171 !!!!!! 11\n",
      "形势与政策-2024秋 150/158 !!!!!! 8\n",
      "体育(初级网球) 40/38 \n",
      "概率统计 120/42 \n",
      "围棋与中国文化 40/57 !!!!!! 17\n",
      "人工智能导论 25/67 !!!!!! 42\n",
      "计算机系统基础 80/68 \n",
      "离散数学Ⅱ 60/102 !!!!!! 42\n",
      "机器人学导论 50/44 \n",
      "人工智能先导实践 50/49 \n",
      "120\n"
     ]
    }
   ],
   "execution_count": 7
  }
 ],
 "metadata": {
  "kernelspec": {
   "display_name": "Python 3",
   "language": "python",
   "name": "python3"
  },
  "language_info": {
   "codemirror_mode": {
    "name": "ipython",
    "version": 2
   },
   "file_extension": ".py",
   "mimetype": "text/x-python",
   "name": "python",
   "nbconvert_exporter": "python",
   "pygments_lexer": "ipython2",
   "version": "2.7.6"
  }
 },
 "nbformat": 4,
 "nbformat_minor": 5
}
