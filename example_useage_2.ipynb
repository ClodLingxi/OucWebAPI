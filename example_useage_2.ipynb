{
 "cells": [
  {
   "cell_type": "code",
   "id": "initial_id",
   "metadata": {
    "collapsed": true,
    "ExecuteTime": {
     "end_time": "2024-09-04T04:10:51.768706Z",
     "start_time": "2024-09-04T04:10:51.210250Z"
    }
   },
   "source": [
    "from ouc_course_tool.core import TableFetcher, CourseFetcher, AccountValidation\n",
    "from ouc_course_tool.config import LoginConfig, CourseFetcherConfig, TableFetcherConfig\n",
    "from ouc_course_tool.data.courses import TableFetcherParams\n",
    "\n",
    "from tests.test_config import ConfigOfTest"
   ],
   "outputs": [],
   "execution_count": 1
  },
  {
   "metadata": {
    "ExecuteTime": {
     "end_time": "2024-09-04T04:10:51.779789Z",
     "start_time": "2024-09-04T04:10:51.775722Z"
    }
   },
   "cell_type": "code",
   "source": [
    "test_config = ConfigOfTest('./tests/test_resource/account_local.ini')\n",
    "tesseract_cmd_path = 'D:/Tools/Tesseract/tesseract.exe'\n",
    "\n",
    "login_config = LoginConfig(test_config.get_username(), test_config.get_password(), tesseract_cmd_path)"
   ],
   "id": "45cf5210dab0601c",
   "outputs": [],
   "execution_count": 2
  },
  {
   "metadata": {
    "ExecuteTime": {
     "end_time": "2024-09-04T04:10:53.264479Z",
     "start_time": "2024-09-04T04:10:52.040765Z"
    }
   },
   "cell_type": "code",
   "source": [
    "session_id = AccountValidation(login_config).get_login_session_id()\n",
    "print(session_id)"
   ],
   "id": "2e19bcb2920e3cf6",
   "outputs": [
    {
     "name": "stdout",
     "output_type": "stream",
     "text": [
      "CE68E676B8AF557D70BDE0C100E17092\n"
     ]
    }
   ],
   "execution_count": 3
  },
  {
   "metadata": {
    "ExecuteTime": {
     "end_time": "2024-09-04T04:10:53.348896Z",
     "start_time": "2024-09-04T04:10:53.343502Z"
    }
   },
   "cell_type": "code",
   "source": [
    "\n",
    "def get_selection_view_from_session_id(session_id):\n",
    "    course_fetcher_config = CourseFetcherConfig(session_id=session_id)\n",
    "    course_fetcher = CourseFetcher(config=course_fetcher_config)\n",
    "    table_fetcher_config = TableFetcherConfig(session_id=session_id)\n",
    "    table_fetcher = TableFetcher(table_fetcher_config)\n",
    "    table_fetcher.set_search_param(TableFetcherParams(xh=test_config.get_username()))\n",
    "    \n",
    "    selection_number_list = table_fetcher.get_selection_number_list()\n",
    "    \n",
    "    for select_id in selection_number_list:\n",
    "        result: dict = course_fetcher.get_course_by_selection_id(select_id)[0]\n",
    "        rs:str = result.get('rs')\n",
    "        n1, n2 = map(lambda x: int(x), rs.split('/'))\n",
    "        print(result.get('kcmc'), result.get('rs'), \"!!!!!! \" + str(n2 - n1) if n1 < n2 else \"\")\n",
    "    "
   ],
   "id": "231ccf24662d191f",
   "outputs": [],
   "execution_count": 4
  },
  {
   "metadata": {
    "ExecuteTime": {
     "end_time": "2024-09-04T04:10:57.137058Z",
     "start_time": "2024-09-04T04:10:53.370999Z"
    }
   },
   "cell_type": "code",
   "source": "get_selection_view_from_session_id(session_id)",
   "id": "22b44fd18411d561",
   "outputs": [
    {
     "name": "stdout",
     "output_type": "stream",
     "text": [
      "毛泽东思想和中国特色社会主义理论体系概论 160/163 !!!!!! 3\n",
      "形势与政策-2024秋 150/160 !!!!!! 10\n",
      "体育(初级网球) 40/35 \n",
      "概率统计 120/42 \n",
      "围棋与中国文化 40/54 !!!!!! 14\n",
      "人工智能导论 25/65 !!!!!! 40\n",
      "计算机系统基础 80/60 \n",
      "离散数学Ⅱ 60/105 !!!!!! 45\n",
      "机器人学导论 50/42 \n",
      "人工智能先导实践 50/45 \n"
     ]
    }
   ],
   "execution_count": 5
  }
 ],
 "metadata": {
  "kernelspec": {
   "display_name": "Python 3",
   "language": "python",
   "name": "python3"
  },
  "language_info": {
   "codemirror_mode": {
    "name": "ipython",
    "version": 2
   },
   "file_extension": ".py",
   "mimetype": "text/x-python",
   "name": "python",
   "nbconvert_exporter": "python",
   "pygments_lexer": "ipython2",
   "version": "2.7.6"
  }
 },
 "nbformat": 4,
 "nbformat_minor": 5
}
