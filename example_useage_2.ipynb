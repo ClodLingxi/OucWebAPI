{
 "cells": [
  {
   "cell_type": "code",
   "id": "initial_id",
   "metadata": {
    "collapsed": true,
    "ExecuteTime": {
     "end_time": "2024-09-04T02:13:21.518964Z",
     "start_time": "2024-09-04T02:13:20.994547Z"
    }
   },
   "source": [
    "from ouc_course_tool import *\n",
    "from ouc_course_tool.core import search_param_handle\n",
    "from tests.test_config import ConfigOfTest"
   ],
   "outputs": [],
   "execution_count": 1
  },
  {
   "metadata": {
    "ExecuteTime": {
     "end_time": "2024-09-04T02:13:21.531058Z",
     "start_time": "2024-09-04T02:13:21.525972Z"
    }
   },
   "cell_type": "code",
   "source": [
    "test_config = ConfigOfTest('./tests/test_resource/account_local.ini')\n",
    "tesseract_cmd_path = 'D:/Tools/Tesseract/tesseract.exe'\n",
    "\n",
    "login_config = LoginConfig(test_config.get_username(), test_config.get_password(), tesseract_cmd_path)"
   ],
   "id": "45cf5210dab0601c",
   "outputs": [],
   "execution_count": 2
  },
  {
   "metadata": {
    "ExecuteTime": {
     "end_time": "2024-09-04T02:13:26.573907Z",
     "start_time": "2024-09-04T02:13:21.759463Z"
    }
   },
   "cell_type": "code",
   "source": [
    "session_id = AccountValidation(login_config).get_login_session_id()\n",
    "print(session_id)"
   ],
   "id": "2e19bcb2920e3cf6",
   "outputs": [
    {
     "name": "stdout",
     "output_type": "stream",
     "text": [
      "7D99A920B1CC6A9933744E89415E80BC\n"
     ]
    }
   ],
   "execution_count": 3
  },
  {
   "metadata": {
    "ExecuteTime": {
     "end_time": "2024-09-04T02:13:26.687597Z",
     "start_time": "2024-09-04T02:13:26.681925Z"
    }
   },
   "cell_type": "code",
   "source": [
    "fetcher_config = FetcherConfig(session_id=session_id, params=None)\n",
    "course_fetcher = CourseFetcher(config=fetcher_config)\n"
   ],
   "id": "5e20a3241b5c6df6",
   "outputs": [],
   "execution_count": 4
  },
  {
   "metadata": {
    "ExecuteTime": {
     "end_time": "2024-09-04T02:17:36.289965Z",
     "start_time": "2024-09-04T02:17:33.409033Z"
    }
   },
   "cell_type": "code",
   "source": [
    "select_id_list_of_jy = [\n",
    "    \"19000075\",\n",
    "    \"19000182\",\n",
    "    \"18003233\",\n",
    "    \"16001067\",\n",
    "    \"07001044\",\n",
    "    \"02003084\",\n",
    "    \"02003109\",\n",
    "    \"02003004\",\n",
    "    \"02003007\",\n",
    "    \"02003067\",\n",
    "]\n",
    "\n",
    "for select_id in select_id_list_of_jy:\n",
    "    result: dict = course_fetcher.get_course_by_selection_id(select_id)[0]\n",
    "    rs:str = result.get('rs')\n",
    "    n1, n2 = map(lambda x: int(x), rs.split('/'))\n",
    "    print(result.get('kcmc'), result.get('rs'), \"!!!!!! \" + str(n2 - n1) if n1 < n2 else \"\")"
   ],
   "id": "ba2b8c0730025205",
   "outputs": [
    {
     "name": "stdout",
     "output_type": "stream",
     "text": [
      "马克思主义基本原理 80/65 \n",
      "形势与政策-2024秋 150/64 \n",
      "体育(初级网球) 40/46 !!!!!! 6\n",
      "线性代数 120/160 !!!!!! 40\n",
      "围棋与中国文化 40/49 !!!!!! 9\n",
      "信息安全数学基础 50/77 !!!!!! 27\n",
      "计算机系统基础 80/91 !!!!!! 11\n",
      "离散数学Ⅱ 60/107 !!!!!! 47\n",
      "信息系统开发（.NET） 30/75 !!!!!! 45\n",
      "网络攻防先导实践 50/44 \n"
     ]
    }
   ],
   "execution_count": 11
  },
  {
   "metadata": {
    "ExecuteTime": {
     "end_time": "2024-09-04T02:16:53.772835Z",
     "start_time": "2024-09-04T02:16:50.144161Z"
    }
   },
   "cell_type": "code",
   "source": [
    "select_id_list_of_zy = [\n",
    "    \"19000174\",\n",
    "    \"19000018\",\n",
    "    \"18003235\",\n",
    "    \"16001079\",\n",
    "    \"07001044\",\n",
    "    \"02003125\",\n",
    "    \"02003110\",\n",
    "    \"02003066\",\n",
    "    \"02003012\",\n",
    "    \"02003004\",\n",
    "]\n",
    "\n",
    "for select_id in select_id_list_of_zy:\n",
    "    result: dict = course_fetcher.get_course_by_selection_id(select_id)[0]\n",
    "    rs:str = result.get('rs')\n",
    "    n1, n2 = map(lambda x: int(x), rs.split('/'))\n",
    "    print(result.get('kcmc'), result.get('rs'), \"!!!!!! \" + str(n2 - n1) if n1 < n2 else \"\")"
   ],
   "id": "841f9b0d29e5fd38",
   "outputs": [
    {
     "name": "stdout",
     "output_type": "stream",
     "text": [
      "形势与政策-2024秋 150/157 !!!!!! 7\n",
      "毛泽东思想和中国特色社会主义理论体系概论 160/163 !!!!!! 3\n",
      "体育(初级网球) 40/33 \n",
      "概率统计 120/40 \n",
      "围棋与中国文化 40/49 !!!!!! 9\n",
      "人工智能导论 25/65 !!!!!! 40\n",
      "计算机系统基础 80/56 \n",
      "人工智能先导实践 50/38 \n",
      "机器人学导论 50/40 \n",
      "离散数学Ⅱ 60/107 !!!!!! 47\n"
     ]
    }
   ],
   "execution_count": 10
  }
 ],
 "metadata": {
  "kernelspec": {
   "display_name": "Python 3",
   "language": "python",
   "name": "python3"
  },
  "language_info": {
   "codemirror_mode": {
    "name": "ipython",
    "version": 2
   },
   "file_extension": ".py",
   "mimetype": "text/x-python",
   "name": "python",
   "nbconvert_exporter": "python",
   "pygments_lexer": "ipython2",
   "version": "2.7.6"
  }
 },
 "nbformat": 4,
 "nbformat_minor": 5
}
