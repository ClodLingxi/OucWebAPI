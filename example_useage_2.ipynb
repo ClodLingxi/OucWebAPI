{
 "cells": [
  {
   "cell_type": "code",
   "id": "initial_id",
   "metadata": {
    "collapsed": true,
    "ExecuteTime": {
     "end_time": "2024-09-03T08:32:44.570215Z",
     "start_time": "2024-09-03T08:32:43.681752Z"
    }
   },
   "source": [
    "from ouc_course_tool import *\n",
    "from ouc_course_tool.core import search_param_handle\n",
    "from tests.test_config import ConfigOfTest"
   ],
   "outputs": [],
   "execution_count": 1
  },
  {
   "metadata": {
    "ExecuteTime": {
     "end_time": "2024-09-03T08:32:44.593906Z",
     "start_time": "2024-09-03T08:32:44.585224Z"
    }
   },
   "cell_type": "code",
   "source": [
    "test_config = ConfigOfTest('./tests/test_resource/account_local.ini')\n",
    "tesseract_cmd_path = 'D:/Tools/Tesseract/tesseract.exe'\n",
    "\n",
    "login_config = LoginConfig(test_config.get_username(), test_config.get_password(), tesseract_cmd_path)"
   ],
   "id": "45cf5210dab0601c",
   "outputs": [],
   "execution_count": 2
  },
  {
   "metadata": {
    "ExecuteTime": {
     "end_time": "2024-09-03T08:32:55.167157Z",
     "start_time": "2024-09-03T08:32:54.278440Z"
    }
   },
   "cell_type": "code",
   "source": [
    "session_id = AccountValidation(login_config).get_login_session_id()\n",
    "print(session_id)"
   ],
   "id": "2e19bcb2920e3cf6",
   "outputs": [
    {
     "name": "stdout",
     "output_type": "stream",
     "text": [
      "A71DDF9DC5B9EC29834D3940F8C18DFB\n"
     ]
    }
   ],
   "execution_count": 3
  },
  {
   "metadata": {
    "ExecuteTime": {
     "end_time": "2024-09-03T08:33:20.504729Z",
     "start_time": "2024-09-03T08:33:20.500201Z"
    }
   },
   "cell_type": "code",
   "source": [
    "fetcher_params = FetcherParams(\n",
    "    xnxq=\"2024-1\", kcfw=\"PublicBasic\", sel_schoolarea=\"3\", sel_kc=\"概率\",\n",
    ").to_dict()\n",
    "fetcher_config = FetcherConfig(session_id=session_id, params=fetcher_params)\n",
    "course_fetcher = CourseFetcher(config=fetcher_config)\n"
   ],
   "id": "5e20a3241b5c6df6",
   "outputs": [],
   "execution_count": 6
  },
  {
   "metadata": {
    "ExecuteTime": {
     "end_time": "2024-09-03T08:39:20.320250Z",
     "start_time": "2024-09-03T08:39:20.316463Z"
    }
   },
   "cell_type": "code",
   "source": [
    "select_id_list_of_jy = [\n",
    "    \"19000075\",\n",
    "    \"19000182\",\n",
    "    \"18003176\",\n",
    "    \"16001067\",\n",
    "    \"07001044\",\n",
    "    \"02003084\",\n",
    "    \"02003109\",\n",
    "    \"02003004\",\n",
    "    \"02003007\",\n",
    "    \"02003067\",\n",
    "]"
   ],
   "id": "fc08a2016b8ab2d8",
   "outputs": [],
   "execution_count": 13
  },
  {
   "metadata": {
    "ExecuteTime": {
     "end_time": "2024-09-03T08:39:44.962475Z",
     "start_time": "2024-09-03T08:39:41.002965Z"
    }
   },
   "cell_type": "code",
   "source": [
    "for select_id in select_id_list_of_jy:\n",
    "    result: dict = course_fetcher.get_course_by_selection_id(select_id)[0]\n",
    "    print(result.get('kcmc'), result.get('rs'))"
   ],
   "id": "ba2b8c0730025205",
   "outputs": [
    {
     "name": "stdout",
     "output_type": "stream",
     "text": [
      "马克思主义基本原理 80/51\n",
      "形势与政策-2024秋 150/34\n",
      "体育(击剑) 40/64\n",
      "线性代数 120/145\n",
      "大学物理实验2 32/40\n",
      "围棋与中国文化 40/35\n",
      "信息安全数学基础 50/67\n",
      "计算机系统基础 80/82\n",
      "离散数学Ⅱ 60/104\n",
      "信息系统开发（.NET） 30/70\n",
      "网络攻防先导实践 50/33\n"
     ]
    }
   ],
   "execution_count": 15
  },
  {
   "metadata": {},
   "cell_type": "code",
   "outputs": [],
   "execution_count": null,
   "source": [
    "select_id_list_of_zy = [\n",
    "    \"19000075\",\n",
    "    \"19000182\",\n",
    "    \"18003176\",\n",
    "    \"16001067\",\n",
    "    \"07001044\",\n",
    "    \"02003084\",\n",
    "    \"02003109\",\n",
    "    \"02003004\",\n",
    "    \"02003007\",\n",
    "    \"02003067\",\n",
    "]"
   ],
   "id": "841f9b0d29e5fd38"
  },
  {
   "metadata": {},
   "cell_type": "code",
   "outputs": [],
   "execution_count": null,
   "source": [
    "for select_id in select_id_list_of_zy:\n",
    "    result: dict = course_fetcher.get_course_by_selection_id(select_id)[0]\n",
    "    print(result.get('kcmc'), result.get('rs'))"
   ],
   "id": "f33aa7464890f4de"
  }
 ],
 "metadata": {
  "kernelspec": {
   "display_name": "Python 3",
   "language": "python",
   "name": "python3"
  },
  "language_info": {
   "codemirror_mode": {
    "name": "ipython",
    "version": 2
   },
   "file_extension": ".py",
   "mimetype": "text/x-python",
   "name": "python",
   "nbconvert_exporter": "python",
   "pygments_lexer": "ipython2",
   "version": "2.7.6"
  }
 },
 "nbformat": 4,
 "nbformat_minor": 5
}
