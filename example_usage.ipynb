{
 "cells": [
  {
   "metadata": {
    "ExecuteTime": {
     "end_time": "2024-09-03T09:47:09.015749Z",
     "start_time": "2024-09-03T09:47:08.018057Z"
    }
   },
   "cell_type": "code",
   "source": [
    "from data import Course\n",
    "from ouc_course_tool import *\n",
    "from data.schedule import CourseTable\n",
    "from tests.test_config import ConfigOfTest\n",
    "from ouc_course_tool.core.search_param_handle import search_param_handle"
   ],
   "id": "37aeed355a6062c4",
   "outputs": [],
   "execution_count": 2
  },
  {
   "metadata": {},
   "cell_type": "markdown",
   "source": "导入包",
   "id": "db757333283b61a5"
  },
  {
   "metadata": {
    "collapsed": true,
    "ExecuteTime": {
     "end_time": "2024-09-03T09:47:09.028844Z",
     "start_time": "2024-09-03T09:47:09.023758Z"
    }
   },
   "cell_type": "code",
   "source": [
    "test_config = ConfigOfTest('./tests/test_resource/account_local.ini')\n",
    "tesseract_cmd_path = 'D:/Tools/Tesseract/tesseract.exe'\n",
    "\n",
    "login_config = LoginConfig(test_config.get_username(), test_config.get_password(), tesseract_cmd_path)"
   ],
   "id": "initial_id",
   "outputs": [],
   "execution_count": 3
  },
  {
   "metadata": {},
   "cell_type": "markdown",
   "source": [
    "设置 Tesseract 图片识别软件\n",
    "EXAMPLE DOWNLOAD URL: https://digi.bib.uni-mannheim.de/tesseract/tesseract-ocr-w64-setup-5.3.4.20240503.exe\n",
    "\n",
    "设置 全局变量（包括账号和密码）\n",
    "设置 登录配置\n"
   ],
   "id": "f792c3011f1d5b45"
  },
  {
   "metadata": {
    "ExecuteTime": {
     "end_time": "2024-09-03T09:47:10.466283Z",
     "start_time": "2024-09-03T09:47:09.053346Z"
    }
   },
   "cell_type": "code",
   "source": [
    "session_id = AccountValidation(login_config).get_login_session_id()\n",
    "print(session_id)"
   ],
   "id": "c31a4020a3b01217",
   "outputs": [
    {
     "name": "stdout",
     "output_type": "stream",
     "text": [
      "388756E29B488A5F20C85C2A4A4005EC\n"
     ]
    }
   ],
   "execution_count": 4
  },
  {
   "metadata": {},
   "cell_type": "markdown",
   "source": "获取登录 ID",
   "id": "4f10a81a39de5596"
  },
  {
   "metadata": {
    "ExecuteTime": {
     "end_time": "2024-09-03T09:47:10.557376Z",
     "start_time": "2024-09-03T09:47:10.553237Z"
    }
   },
   "cell_type": "code",
   "source": [
    "fetcher_config = FetcherConfig(session_id=session_id)\n",
    "course_fetcher = CourseFetcher(config=fetcher_config)"
   ],
   "id": "4e1379036780659f",
   "outputs": [],
   "execution_count": 5
  },
  {
   "metadata": {},
   "cell_type": "markdown",
   "source": "设置 搜索配置",
   "id": "d51d9f1c6a4eda34"
  },
  {
   "metadata": {
    "ExecuteTime": {
     "end_time": "2024-09-03T09:54:09.581059Z",
     "start_time": "2024-09-03T09:54:09.575679Z"
    }
   },
   "cell_type": "code",
   "source": [
    "target_course = [\n",
    "    # '围棋-选修',\n",
    "    '概率-公共',\n",
    "    '形势与政策-公共',\n",
    "    '毛泽东思想-公共',\n",
    "    '体育-公共',\n",
    "    '离散数学-智能科学-2023',\n",
    "    '计算机系统基础-智能科学-2023',\n",
    "    '人工智能导论-智能科学-2022'\n",
    "    '机器人学导论-智能科学-2022'\n",
    "]\n"
   ],
   "id": "f709d8ca614ecb3e",
   "outputs": [],
   "execution_count": 47
  },
  {
   "metadata": {},
   "cell_type": "markdown",
   "source": "",
   "id": "238b7f104912ad8"
  },
  {
   "metadata": {},
   "cell_type": "markdown",
   "source": "目标选课",
   "id": "d699d3dd16c0dda0"
  },
  {
   "metadata": {
    "ExecuteTime": {
     "end_time": "2024-09-03T09:54:17.452822Z",
     "start_time": "2024-09-03T09:54:11.461578Z"
    }
   },
   "cell_type": "code",
   "source": [
    "mul_params = search_param_handle(target_course, campus=3, year_and_term='2024-1')\n",
    "courses_list =  course_fetcher.get_courses_from_mul_params(mul_params)\n",
    "print(courses_list)"
   ],
   "id": "d540a7389d57d883",
   "outputs": [
    {
     "name": "stdout",
     "output_type": "stream",
     "text": [
      "[[Course(selection_number='07001044', course_name='[009101251913]围棋与中国文化', campus='西海岸校区', teaching_method='讲授', instructor='齐祥明', start_week='1-17', credits=2.0, total_hours=32, limit=40, selected_count=36, confirmed_count=0, class_time='[周次: [1, 2, 3, 4, 5, 6, 7, 8, 9, 10, 11, 12, 13, 14, 15, 16, 17] 星期: 二 (3-4节) 每周]', class_location='南402/401', syllabus='', teaching_calendar='', notes='')], [Course(selection_number='16001079', course_name='[008401101063]概率统计', campus='西海岸校区', teaching_method='讲授', instructor='王雯', start_week='1-17', credits=4.0, total_hours=64, limit=120, selected_count=39, confirmed_count=0, class_time='[周次: [1, 2, 3, 4, 5, 6, 7, 8, 9, 10, 11, 12, 13, 14, 15, 16, 17] 星期: 三 (1-2节) 每周, 周次: [1, 2, 3, 4, 5, 6, 7, 8, 9, 10, 11, 12, 13, 14, 15, 16, 17] 星期: 一 (5-6节) 每周]', class_location='南506/505', syllabus='', teaching_calendar='', notes=''), Course(selection_number='16001080', course_name='[008401101063]概率统计', campus='西海岸校区', teaching_method='讲授', instructor='王雯', start_week='1-17', credits=4.0, total_hours=64, limit=120, selected_count=64, confirmed_count=0, class_time='[周次: [1, 2, 3, 4, 5, 6, 7, 8, 9, 10, 11, 12, 13, 14, 15, 16, 17] 星期: 一 (7-8节) 每周, 周次: [1, 2, 3, 4, 5, 6, 7, 8, 9, 10, 11, 12, 13, 14, 15, 16, 17] 星期: 三 (3-4节) 每周]', class_location='南506/505', syllabus='', teaching_calendar='', notes=''), Course(selection_number='16001081', course_name='[008401101063]概率统计', campus='西海岸校区', teaching_method='讲授', instructor='董冉', start_week='1-17', credits=4.0, total_hours=64, limit=120, selected_count=107, confirmed_count=0, class_time='[周次: [1, 2, 3, 4, 5, 6, 7, 8, 9, 10, 11, 12, 13, 14, 15, 16, 17] 星期: 二 (1-2节) 每周, 周次: [1, 2, 3, 4, 5, 6, 7, 8, 9, 10, 11, 12, 13, 14, 15, 16, 17] 星期: 五 (1-2节) 每周]', class_location='南506/505', syllabus='', teaching_calendar='', notes=''), Course(selection_number='16001082', course_name='[008401101063]概率统计', campus='西海岸校区', teaching_method='讲授', instructor='董冉', start_week='1-17', credits=4.0, total_hours=64, limit=120, selected_count=115, confirmed_count=0, class_time='[周次: [1, 2, 3, 4, 5, 6, 7, 8, 9, 10, 11, 12, 13, 14, 15, 16, 17] 星期: 五 (3-4节) 每周, 周次: [1, 2, 3, 4, 5, 6, 7, 8, 9, 10, 11, 12, 13, 14, 15, 16, 17] 星期: 二 (3-4节) 每周]', class_location='南506/505', syllabus='', teaching_calendar='', notes=''), Course(selection_number='16001083', course_name='[008401101063]概率统计', campus='西海岸校区', teaching_method='讲授', instructor='陈颖谷', start_week='1-17', credits=4.0, total_hours=64, limit=120, selected_count=60, confirmed_count=0, class_time='[周次: [1, 2, 3, 4, 5, 6, 7, 8, 9, 10, 11, 12, 13, 14, 15, 16, 17] 星期: 四 (1-2节) 每周, 周次: [1, 2, 3, 4, 5, 6, 7, 8, 9, 10, 11, 12, 13, 14, 15, 16, 17] 星期: 二 (1-2节) 每周]', class_location='南306/305', syllabus='', teaching_calendar='', notes=''), Course(selection_number='16001084', course_name='[008401101063]概率统计', campus='西海岸校区', teaching_method='讲授', instructor='陈颖谷', start_week='1-17', credits=4.0, total_hours=64, limit=120, selected_count=60, confirmed_count=0, class_time='[周次: [1, 2, 3, 4, 5, 6, 7, 8, 9, 10, 11, 12, 13, 14, 15, 16, 17] 星期: 二 (3-4节) 每周, 周次: [1, 2, 3, 4, 5, 6, 7, 8, 9, 10, 11, 12, 13, 14, 15, 16, 17] 星期: 四 (3-4节) 每周]', class_location='南306/305', syllabus='', teaching_calendar='', notes=''), Course(selection_number='16001085', course_name='[008401101063]概率统计', campus='西海岸校区', teaching_method='讲授', instructor='张志朋', start_week='1-17', credits=4.0, total_hours=64, limit=120, selected_count=8, confirmed_count=0, class_time='[周次: [1, 2, 3, 4, 5, 6, 7, 8, 9, 10, 11, 12, 13, 14, 15, 16, 17] 星期: 二 (1-2节) 每周, 周次: [1, 2, 3, 4, 5, 6, 7, 8, 9, 10, 11, 12, 13, 14, 15, 16, 17] 星期: 四 (1-2节) 每周]', class_location='南304/303', syllabus='', teaching_calendar='', notes=''), Course(selection_number='16001086', course_name='[008401101063]概率统计', campus='西海岸校区', teaching_method='讲授', instructor='张志朋', start_week='1-17', credits=4.0, total_hours=64, limit=120, selected_count=22, confirmed_count=0, class_time='[周次: [1, 2, 3, 4, 5, 6, 7, 8, 9, 10, 11, 12, 13, 14, 15, 16, 17] 星期: 四 (3-4节) 每周, 周次: [1, 2, 3, 4, 5, 6, 7, 8, 9, 10, 11, 12, 13, 14, 15, 16, 17] 星期: 二 (3-4节) 每周]', class_location='南304/303', syllabus='', teaching_calendar='', notes=''), Course(selection_number='16001087', course_name='[008401101063]概率统计', campus='西海岸校区', teaching_method='讲授', instructor='卢春阁', start_week='1-17', credits=4.0, total_hours=64, limit=120, selected_count=140, confirmed_count=0, class_time='[周次: [1, 2, 3, 4, 5, 6, 7, 8, 9, 10, 11, 12, 13, 14, 15, 16, 17] 星期: 四 (1-2节) 每周, 周次: [1, 2, 3, 4, 5, 6, 7, 8, 9, 10, 11, 12, 13, 14, 15, 16, 17] 星期: 二 (1-2节) 每周]', class_location='南105/104', syllabus='', teaching_calendar='', notes=''), Course(selection_number='16001088', course_name='[008401101063]概率统计', campus='西海岸校区', teaching_method='讲授', instructor='卢春阁', start_week='1-17', credits=4.0, total_hours=64, limit=120, selected_count=149, confirmed_count=0, class_time='[周次: [1, 2, 3, 4, 5, 6, 7, 8, 9, 10, 11, 12, 13, 14, 15, 16, 17] 星期: 二 (3-4节) 每周, 周次: [1, 2, 3, 4, 5, 6, 7, 8, 9, 10, 11, 12, 13, 14, 15, 16, 17] 星期: 四 (3-4节) 每周]', class_location='南105/104', syllabus='', teaching_calendar='', notes='')], [Course(selection_number='19000170', course_name='[008101202401]形势与政策-2024秋', campus='西海岸校区', teaching_method='讲授', instructor='梁山', start_week='1-6', credits=0.25, total_hours=8, limit=150, selected_count=221, confirmed_count=0, class_time='[周次: [1, 2, 3, 4, 5, 6] 星期: 六 (1-2节) 每周]', class_location='南206/205', syllabus='', teaching_calendar='', notes=''), Course(selection_number='19000171', course_name='[008101202401]形势与政策-2024秋', campus='西海岸校区', teaching_method='讲授', instructor='梁山', start_week='1-6', credits=0.25, total_hours=8, limit=150, selected_count=224, confirmed_count=0, class_time='[周次: [1, 2, 3, 4, 5, 6] 星期: 六 (3-4节) 每周]', class_location='南206/205', syllabus='', teaching_calendar='', notes=''), Course(selection_number='19000172', course_name='[008101202401]形势与政策-2024秋', campus='西海岸校区', teaching_method='讲授', instructor='梁山', start_week='1-6', credits=0.25, total_hours=8, limit=150, selected_count=202, confirmed_count=0, class_time='[周次: [1, 2, 3, 4, 5, 6] 星期: 六 (5-6节) 每周]', class_location='南206/205', syllabus='', teaching_calendar='', notes=''), Course(selection_number='19000173', course_name='[008101202401]形势与政策-2024秋', campus='西海岸校区', teaching_method='讲授', instructor='杨智雄', start_week='7-10', credits=0.25, total_hours=8, limit=150, selected_count=169, confirmed_count=0, class_time='[周次: [7, 8, 9, 10] 星期: 六 (3-4节) 每周]', class_location='南206/205', syllabus='', teaching_calendar='', notes=''), Course(selection_number='19000174', course_name='[008101202401]形势与政策-2024秋', campus='西海岸校区', teaching_method='讲授', instructor='杨智雄', start_week='7-10', credits=0.25, total_hours=8, limit=150, selected_count=151, confirmed_count=0, class_time='[周次: [7, 8, 9, 10] 星期: 六 (5-6节) 每周]', class_location='南206/205', syllabus='', teaching_calendar='', notes=''), Course(selection_number='19000175', course_name='[008101202401]形势与政策-2024秋', campus='西海岸校区', teaching_method='讲授', instructor='杨智雄', start_week='7-10', credits=0.25, total_hours=8, limit=150, selected_count=151, confirmed_count=0, class_time='[周次: [7, 8, 9, 10] 星期: 六 (7-8节) 每周]', class_location='南206/205', syllabus='', teaching_calendar='', notes=''), Course(selection_number='19000176', course_name='[008101202401]形势与政策-2024秋', campus='西海岸校区', teaching_method='讲授', instructor='杨智雄', start_week='7-10', credits=0.25, total_hours=8, limit=150, selected_count=131, confirmed_count=0, class_time='[周次: [7, 8, 9, 10] 星期: 日 (1-2节) 每周]', class_location='南206/205', syllabus='', teaching_calendar='', notes=''), Course(selection_number='19000177', course_name='[008101202401]形势与政策-2024秋', campus='西海岸校区', teaching_method='讲授', instructor='杨智雄', start_week='7-10', credits=0.25, total_hours=8, limit=150, selected_count=147, confirmed_count=0, class_time='[周次: [7, 8, 9, 10] 星期: 日 (3-4节) 每周]', class_location='南206/205', syllabus='', teaching_calendar='', notes=''), Course(selection_number='19000178', course_name='[008101202401]形势与政策-2024秋', campus='西海岸校区', teaching_method='讲授', instructor='杨智雄', start_week='7-10', credits=0.25, total_hours=8, limit=150, selected_count=132, confirmed_count=0, class_time='[周次: [7, 8, 9, 10] 星期: 日 (5-6节) 每周]', class_location='南206/205', syllabus='', teaching_calendar='', notes=''), Course(selection_number='19000179', course_name='[008101202401]形势与政策-2024秋', campus='西海岸校区', teaching_method='讲授', instructor='梁山', start_week='11-14', credits=0.25, total_hours=8, limit=150, selected_count=97, confirmed_count=0, class_time='[周次: [11, 12, 13, 14] 星期: 六 (1-2节) 每周]', class_location='南206/205', syllabus='', teaching_calendar='', notes=''), Course(selection_number='19000180', course_name='[008101202401]形势与政策-2024秋', campus='西海岸校区', teaching_method='讲授', instructor='梁山', start_week='11-14', credits=0.25, total_hours=8, limit=150, selected_count=131, confirmed_count=0, class_time='[周次: [11, 12, 13, 14] 星期: 六 (3-4节) 每周]', class_location='南206/205', syllabus='', teaching_calendar='', notes=''), Course(selection_number='19000181', course_name='[008101202401]形势与政策-2024秋', campus='西海岸校区', teaching_method='讲授', instructor='梁山', start_week='11-14', credits=0.25, total_hours=8, limit=150, selected_count=89, confirmed_count=0, class_time='[周次: [11, 12, 13, 14] 星期: 六 (5-6节) 每周]', class_location='南206/205', syllabus='', teaching_calendar='', notes=''), Course(selection_number='19000182', course_name='[008101202401]形势与政策-2024秋', campus='西海岸校区', teaching_method='讲授', instructor='梁山', start_week='11-14', credits=0.25, total_hours=8, limit=150, selected_count=36, confirmed_count=0, class_time='[周次: [11, 12, 13, 14] 星期: 日 (1-2节) 每周]', class_location='南206/205', syllabus='', teaching_calendar='', notes=''), Course(selection_number='19000183', course_name='[008101202401]形势与政策-2024秋', campus='西海岸校区', teaching_method='讲授', instructor='梁山', start_week='11-14', credits=0.25, total_hours=8, limit=150, selected_count=64, confirmed_count=0, class_time='[周次: [11, 12, 13, 14] 星期: 日 (3-4节) 每周]', class_location='南206/205', syllabus='', teaching_calendar='', notes=''), Course(selection_number='19000184', course_name='[008101202401]形势与政策-2024秋', campus='西海岸校区', teaching_method='讲授', instructor='梁山', start_week='11-14', credits=0.25, total_hours=8, limit=150, selected_count=85, confirmed_count=0, class_time='[周次: [11, 12, 13, 14] 星期: 日 (5-6节) 每周]', class_location='南206/205', syllabus='', teaching_calendar='', notes=''), Course(selection_number='19000278', course_name='[008101202411]形势与政策-2024秋专题', campus='西海岸校区', teaching_method='讲授', instructor='黄鹏', start_week='99', credits=0.25, total_hours=8, limit=1400, selected_count=120, confirmed_count=0, class_time='[周次: [1, 2, 3, 4, 5, 6, 7, 8, 9, 10, 11, 12, 13, 14, 15, 16, 17, 18, 19] 星期: 一 (1-2节) 每周]', class_location='', syllabus='', teaching_calendar='', notes='限大四选课')], [Course(selection_number='19000017', course_name='[008101101035]毛泽东思想和中国特色社会主义理论体系概论', campus='西海岸校区', teaching_method='讲授', instructor='隋筱童', start_week='1-17', credits=3.0, total_hours=56, limit=160, selected_count=56, confirmed_count=0, class_time='[周次: [1, 2, 3, 4, 5, 6, 7, 8, 9, 10, 11, 12, 13, 14, 15, 16, 17] 星期: 三 (5-6节) 双周, 周次: [1, 2, 3, 4, 5, 6, 7, 8, 9, 10, 11, 12, 13, 14, 15, 16, 17] 星期: 三 (5-7节) 单周]', class_location='南206/205', syllabus='', teaching_calendar='', notes=''), Course(selection_number='19000018', course_name='[008101101035]毛泽东思想和中国特色社会主义理论体系概论', campus='西海岸校区', teaching_method='讲授', instructor='隋筱童', start_week='1-17', credits=3.0, total_hours=56, limit=160, selected_count=138, confirmed_count=0, class_time='[周次: [1, 2, 3, 4, 5, 6, 7, 8, 9, 10, 11, 12, 13, 14, 15, 16, 17] 星期: 三 (8-9节) 单周, 周次: [1, 2, 3, 4, 5, 6, 7, 8, 9, 10, 11, 12, 13, 14, 15, 16, 17] 星期: 三 (7-9节) 双周]', class_location='南206/205', syllabus='', teaching_calendar='', notes=''), Course(selection_number='19000019', course_name='[008101101035]毛泽东思想和中国特色社会主义理论体系概论', campus='西海岸校区', teaching_method='讲授', instructor='李艳霞', start_week='1-17', credits=3.0, total_hours=56, limit=160, selected_count=58, confirmed_count=0, class_time='[周次: [1, 2, 3, 4, 5, 6, 7, 8] 星期: 一 (1-2节) 单周, 周次: [1, 2, 3, 4, 5, 6, 7, 8, 9, 10, 11, 12, 13, 14, 15, 16, 17] 星期: 五 (1-2节) 每周]', class_location='南206/205', syllabus='', teaching_calendar='', notes=''), Course(selection_number='19000020', course_name='[008101101035]毛泽东思想和中国特色社会主义理论体系概论', campus='西海岸校区', teaching_method='讲授', instructor='李艳霞', start_week='1-17', credits=3.0, total_hours=56, limit=160, selected_count=51, confirmed_count=0, class_time='[周次: [1, 2, 3, 4, 5, 6, 7, 8, 9, 10, 11, 12, 13, 14, 15, 16, 17] 星期: 五 (3-4节) 每周, 周次: [1, 2, 3, 4, 5, 6, 7, 8] 星期: 一 (3-4节) 单周]', class_location='南206/205', syllabus='', teaching_calendar='', notes='')], [Course(selection_number='18003265', course_name='[008201103027]体育(初级篮球)', campus='西海岸校区', teaching_method='讲授', instructor='张振楠', start_week='1-17', credits=1.0, total_hours=32, limit=40, selected_count=8, confirmed_count=0, class_time='[周次: [1, 2, 3, 4, 5, 6, 7, 8, 9, 10, 11, 12, 13, 14, 15, 16, 17] 星期: 三 (1-2节) 每周]', class_location='', syllabus='', teaching_calendar='', notes=''), Course(selection_number='18003266', course_name='[008201103027]体育(初级篮球)', campus='西海岸校区', teaching_method='讲授', instructor='张振楠', start_week='1-17', credits=1.0, total_hours=32, limit=40, selected_count=5, confirmed_count=0, class_time='[周次: [1, 2, 3, 4, 5, 6, 7, 8, 9, 10, 11, 12, 13, 14, 15, 16, 17] 星期: 三 (3-4节) 每周]', class_location='', syllabus='', teaching_calendar='', notes=''), Course(selection_number='18003267', course_name='[008201103027]体育(初级篮球)', campus='西海岸校区', teaching_method='讲授', instructor='张振楠', start_week='1-17', credits=1.0, total_hours=32, limit=40, selected_count=4, confirmed_count=0, class_time='[周次: [1, 2, 3, 4, 5, 6, 7, 8, 9, 10, 11, 12, 13, 14, 15, 16, 17] 星期: 三 (5-6节) 每周]', class_location='', syllabus='', teaching_calendar='', notes=''), Course(selection_number='18003268', course_name='[008201103027]体育(初级篮球)', campus='西海岸校区', teaching_method='讲授', instructor='新进职工', start_week='1-17', credits=1.0, total_hours=32, limit=40, selected_count=17, confirmed_count=0, class_time='[周次: [1, 2, 3, 4, 5, 6, 7, 8, 9, 10, 11, 12, 13, 14, 15, 16, 17] 星期: 一 (1-2节) 每周]', class_location='', syllabus='', teaching_calendar='', notes='胡静'), Course(selection_number='18003269', course_name='[008201103027]体育(初级篮球)', campus='西海岸校区', teaching_method='讲授', instructor='新进职工', start_week='1-17', credits=1.0, total_hours=32, limit=40, selected_count=14, confirmed_count=0, class_time='[周次: [1, 2, 3, 4, 5, 6, 7, 8, 9, 10, 11, 12, 13, 14, 15, 16, 17] 星期: 一 (3-4节) 每周]', class_location='', syllabus='', teaching_calendar='', notes='胡静'), Course(selection_number='18003270', course_name='[008201103027]体育(初级篮球)', campus='西海岸校区', teaching_method='讲授', instructor='新进职工', start_week='1-17', credits=1.0, total_hours=32, limit=40, selected_count=4, confirmed_count=0, class_time='[周次: [1, 2, 3, 4, 5, 6, 7, 8, 9, 10, 11, 12, 13, 14, 15, 16, 17] 星期: 一 (5-6节) 每周]', class_location='', syllabus='', teaching_calendar='', notes='胡静'), Course(selection_number='18003271', course_name='[008201103027]体育(初级篮球)', campus='西海岸校区', teaching_method='讲授', instructor='新进职工', start_week='1-17', credits=1.0, total_hours=32, limit=40, selected_count=15, confirmed_count=0, class_time='[周次: [1, 2, 3, 4, 5, 6, 7, 8, 9, 10, 11, 12, 13, 14, 15, 16, 17] 星期: 二 (1-2节) 每周]', class_location='', syllabus='', teaching_calendar='', notes='胡静'), Course(selection_number='18003272', course_name='[008201103027]体育(初级篮球)', campus='西海岸校区', teaching_method='讲授', instructor='新进职工', start_week='1-17', credits=1.0, total_hours=32, limit=40, selected_count=4, confirmed_count=0, class_time='[周次: [1, 2, 3, 4, 5, 6, 7, 8, 9, 10, 11, 12, 13, 14, 15, 16, 17] 星期: 二 (3-4节) 每周]', class_location='', syllabus='', teaching_calendar='', notes='胡静'), Course(selection_number='18003273', course_name='[008201103027]体育(初级篮球)', campus='西海岸校区', teaching_method='讲授', instructor='新进职工', start_week='1-17', credits=1.0, total_hours=32, limit=40, selected_count=14, confirmed_count=0, class_time='[周次: [1, 2, 3, 4, 5, 6, 7, 8, 9, 10, 11, 12, 13, 14, 15, 16, 17] 星期: 二 (5-6节) 每周]', class_location='', syllabus='', teaching_calendar='', notes='胡静'), Course(selection_number='18003196', course_name='[008201103035]体育(初级足球)', campus='西海岸校区', teaching_method='讲授', instructor='梁帅', start_week='1-17', credits=1.0, total_hours=32, limit=40, selected_count=35, confirmed_count=0, class_time='[周次: [1, 2, 3, 4, 5, 6, 7, 8, 9, 10, 11, 12, 13, 14, 15, 16, 17] 星期: 二 (1-2节) 每周]', class_location='', syllabus='', teaching_calendar='', notes=''), Course(selection_number='18003197', course_name='[008201103035]体育(初级足球)', campus='西海岸校区', teaching_method='讲授', instructor='梁帅', start_week='1-17', credits=1.0, total_hours=32, limit=40, selected_count=22, confirmed_count=0, class_time='[周次: [1, 2, 3, 4, 5, 6, 7, 8, 9, 10, 11, 12, 13, 14, 15, 16, 17] 星期: 二 (3-4节) 每周]', class_location='', syllabus='', teaching_calendar='', notes=''), Course(selection_number='18003198', course_name='[008201103035]体育(初级足球)', campus='西海岸校区', teaching_method='讲授', instructor='梁帅', start_week='1-17', credits=1.0, total_hours=32, limit=40, selected_count=16, confirmed_count=0, class_time='[周次: [1, 2, 3, 4, 5, 6, 7, 8, 9, 10, 11, 12, 13, 14, 15, 16, 17] 星期: 二 (5-6节) 每周]', class_location='', syllabus='', teaching_calendar='', notes=''), Course(selection_number='18003199', course_name='[008201103035]体育(初级足球)', campus='西海岸校区', teaching_method='讲授', instructor='梁帅', start_week='1-17', credits=1.0, total_hours=32, limit=40, selected_count=29, confirmed_count=0, class_time='[周次: [1, 2, 3, 4, 5, 6, 7, 8, 9, 10, 11, 12, 13, 14, 15, 16, 17] 星期: 三 (1-2节) 每周]', class_location='', syllabus='', teaching_calendar='', notes=''), Course(selection_number='18003200', course_name='[008201103035]体育(初级足球)', campus='西海岸校区', teaching_method='讲授', instructor='梁帅', start_week='1-17', credits=1.0, total_hours=32, limit=40, selected_count=15, confirmed_count=0, class_time='[周次: [1, 2, 3, 4, 5, 6, 7, 8, 9, 10, 11, 12, 13, 14, 15, 16, 17] 星期: 三 (3-4节) 每周]', class_location='', syllabus='', teaching_calendar='', notes=''), Course(selection_number='18003201', course_name='[008201103035]体育(初级足球)', campus='西海岸校区', teaching_method='讲授', instructor='梁帅', start_week='1-17', credits=1.0, total_hours=32, limit=40, selected_count=13, confirmed_count=0, class_time='[周次: [1, 2, 3, 4, 5, 6, 7, 8, 9, 10, 11, 12, 13, 14, 15, 16, 17] 星期: 三 (5-6节) 每周]', class_location='', syllabus='', teaching_calendar='', notes=''), Course(selection_number='18003228', course_name='[008201103047]体育(初级网球)', campus='西海岸校区', teaching_method='讲授', instructor='常晓峰', start_week='1-17', credits=1.0, total_hours=32, limit=40, selected_count=44, confirmed_count=0, class_time='[周次: [1, 2, 3, 4, 5, 6, 7, 8, 9, 10, 11, 12, 13, 14, 15, 16, 17] 星期: 五 (1-2节) 每周]', class_location='', syllabus='', teaching_calendar='', notes=''), Course(selection_number='18003229', course_name='[008201103047]体育(初级网球)', campus='西海岸校区', teaching_method='讲授', instructor='常晓峰', start_week='1-17', credits=1.0, total_hours=32, limit=40, selected_count=58, confirmed_count=0, class_time='[周次: [1, 2, 3, 4, 5, 6, 7, 8, 9, 10, 11, 12, 13, 14, 15, 16, 17] 星期: 五 (3-4节) 每周]', class_location='', syllabus='', teaching_calendar='', notes=''), Course(selection_number='18003230', course_name='[008201103047]体育(初级网球)', campus='西海岸校区', teaching_method='讲授', instructor='常晓峰', start_week='1-17', credits=1.0, total_hours=32, limit=40, selected_count=41, confirmed_count=0, class_time='[周次: [1, 2, 3, 4, 5, 6, 7, 8, 9, 10, 11, 12, 13, 14, 15, 16, 17] 星期: 五 (5-6节) 每周]', class_location='', syllabus='', teaching_calendar='', notes=''), Course(selection_number='18003233', course_name='[008201103047]体育(初级网球)', campus='西海岸校区', teaching_method='讲授', instructor='外聘(体育)', start_week='1-17', credits=1.0, total_hours=32, limit=40, selected_count=40, confirmed_count=0, class_time='[周次: [1, 2, 3, 4, 5, 6, 7, 8, 9, 10, 11, 12, 13, 14, 15, 16, 17] 星期: 三 (1-2节) 每周]', class_location='', syllabus='', teaching_calendar='', notes='杨梓颐'), Course(selection_number='18003234', course_name='[008201103047]体育(初级网球)', campus='西海岸校区', teaching_method='讲授', instructor='外聘(体育)', start_week='1-17', credits=1.0, total_hours=32, limit=40, selected_count=43, confirmed_count=0, class_time='[周次: [1, 2, 3, 4, 5, 6, 7, 8, 9, 10, 11, 12, 13, 14, 15, 16, 17] 星期: 三 (3-4节) 每周]', class_location='', syllabus='', teaching_calendar='', notes='杨梓颐'), Course(selection_number='18003235', course_name='[008201103047]体育(初级网球)', campus='西海岸校区', teaching_method='讲授', instructor='外聘(体育)', start_week='1-17', credits=1.0, total_hours=32, limit=40, selected_count=24, confirmed_count=0, class_time='[周次: [1, 2, 3, 4, 5, 6, 7, 8, 9, 10, 11, 12, 13, 14, 15, 16, 17] 星期: 三 (5-6节) 每周]', class_location='', syllabus='', teaching_calendar='', notes='杨梓颐'), Course(selection_number='18003236', course_name='[008201103047]体育(初级网球)', campus='西海岸校区', teaching_method='讲授', instructor='外聘(体育)', start_week='1-17', credits=1.0, total_hours=32, limit=40, selected_count=47, confirmed_count=0, class_time='[周次: [1, 2, 3, 4, 5, 6, 7, 8, 9, 10, 11, 12, 13, 14, 15, 16, 17] 星期: 二 (1-2节) 每周]', class_location='', syllabus='', teaching_calendar='', notes='杨梓颐'), Course(selection_number='18003237', course_name='[008201103047]体育(初级网球)', campus='西海岸校区', teaching_method='讲授', instructor='外聘(体育)', start_week='1-17', credits=1.0, total_hours=32, limit=40, selected_count=26, confirmed_count=0, class_time='[周次: [1, 2, 3, 4, 5, 6, 7, 8, 9, 10, 11, 12, 13, 14, 15, 16, 17] 星期: 二 (3-4节) 每周]', class_location='', syllabus='', teaching_calendar='', notes='杨梓颐'), Course(selection_number='18003238', course_name='[008201103047]体育(初级网球)', campus='西海岸校区', teaching_method='讲授', instructor='外聘(体育)', start_week='1-17', credits=1.0, total_hours=32, limit=40, selected_count=36, confirmed_count=0, class_time='[周次: [1, 2, 3, 4, 5, 6, 7, 8, 9, 10, 11, 12, 13, 14, 15, 16, 17] 星期: 二 (5-6节) 每周]', class_location='', syllabus='', teaching_calendar='', notes='杨梓颐'), Course(selection_number='18003120', course_name='[008201103063]体育(太极拳)', campus='西海岸校区', teaching_method='讲授', instructor='高宇池', start_week='1-17', credits=1.0, total_hours=32, limit=40, selected_count=64, confirmed_count=0, class_time='[周次: [1, 2, 3, 4, 5, 6, 7, 8, 9, 10, 11, 12, 13, 14, 15, 16, 17] 星期: 一 (5-6节) 每周]', class_location='', syllabus='', teaching_calendar='', notes=''), Course(selection_number='18003121', course_name='[008201103063]体育(太极拳)', campus='西海岸校区', teaching_method='讲授', instructor='高宇池', start_week='1-17', credits=1.0, total_hours=32, limit=40, selected_count=79, confirmed_count=0, class_time='[周次: [1, 2, 3, 4, 5, 6, 7, 8, 9, 10, 11, 12, 13, 14, 15, 16, 17] 星期: 二 (5-6节) 每周]', class_location='', syllabus='', teaching_calendar='', notes=''), Course(selection_number='18003123', course_name='[008201103069]体育(跆拳道)', campus='西海岸校区', teaching_method='讲授', instructor='颜红英', start_week='1-17', credits=1.0, total_hours=32, limit=40, selected_count=27, confirmed_count=0, class_time='[周次: [1, 2, 3, 4, 5, 6, 7, 8, 9, 10, 11, 12, 13, 14, 15, 16, 17] 星期: 一 (5-6节) 每周]', class_location='', syllabus='', teaching_calendar='', notes=''), Course(selection_number='18003072', course_name='[008201103071]体育(长拳)', campus='西海岸校区', teaching_method='讲授', instructor='高宇池', start_week='1-17', credits=1.0, total_hours=32, limit=40, selected_count=74, confirmed_count=0, class_time='[周次: [1, 2, 3, 4, 5, 6, 7, 8, 9, 10, 11, 12, 13, 14, 15, 16, 17] 星期: 一 (1-2节) 每周]', class_location='', syllabus='', teaching_calendar='', notes=''), Course(selection_number='18003073', course_name='[008201103071]体育(长拳)', campus='西海岸校区', teaching_method='讲授', instructor='高宇池', start_week='1-17', credits=1.0, total_hours=32, limit=40, selected_count=64, confirmed_count=0, class_time='[周次: [1, 2, 3, 4, 5, 6, 7, 8, 9, 10, 11, 12, 13, 14, 15, 16, 17] 星期: 一 (3-4节) 每周]', class_location='', syllabus='', teaching_calendar='', notes=''), Course(selection_number='18003074', course_name='[008201103071]体育(长拳)', campus='西海岸校区', teaching_method='讲授', instructor='高宇池', start_week='1-17', credits=1.0, total_hours=32, limit=40, selected_count=50, confirmed_count=0, class_time='[周次: [1, 2, 3, 4, 5, 6, 7, 8, 9, 10, 11, 12, 13, 14, 15, 16, 17] 星期: 二 (1-2节) 每周]', class_location='', syllabus='', teaching_calendar='', notes=''), Course(selection_number='18003075', course_name='[008201103071]体育(长拳)', campus='西海岸校区', teaching_method='讲授', instructor='高宇池', start_week='1-17', credits=1.0, total_hours=32, limit=40, selected_count=55, confirmed_count=0, class_time='[周次: [1, 2, 3, 4, 5, 6, 7, 8, 9, 10, 11, 12, 13, 14, 15, 16, 17] 星期: 二 (3-4节) 每周]', class_location='', syllabus='', teaching_calendar='', notes=''), Course(selection_number='18003173', course_name='[008201103109]体育(击剑)', campus='西海岸校区', teaching_method='讲授', instructor='初奕剑', start_week='1-17', credits=1.0, total_hours=32, limit=40, selected_count=70, confirmed_count=0, class_time='[周次: [1, 2, 3, 4, 5, 6, 7, 8, 9, 10, 11, 12, 13, 14, 15, 16, 17] 星期: 二 (1-2节) 每周]', class_location='', syllabus='', teaching_calendar='', notes=''), Course(selection_number='18003174', course_name='[008201103109]体育(击剑)', campus='西海岸校区', teaching_method='讲授', instructor='初奕剑', start_week='1-17', credits=1.0, total_hours=32, limit=40, selected_count=70, confirmed_count=0, class_time='[周次: [1, 2, 3, 4, 5, 6, 7, 8, 9, 10, 11, 12, 13, 14, 15, 16, 17] 星期: 二 (3-4节) 每周]', class_location='', syllabus='', teaching_calendar='', notes=''), Course(selection_number='18003175', course_name='[008201103109]体育(击剑)', campus='西海岸校区', teaching_method='讲授', instructor='初奕剑', start_week='1-17', credits=1.0, total_hours=32, limit=40, selected_count=68, confirmed_count=0, class_time='[周次: [1, 2, 3, 4, 5, 6, 7, 8, 9, 10, 11, 12, 13, 14, 15, 16, 17] 星期: 二 (5-6节) 每周]', class_location='', syllabus='', teaching_calendar='', notes=''), Course(selection_number='18003176', course_name='[008201103109]体育(击剑)', campus='西海岸校区', teaching_method='讲授', instructor='初奕剑', start_week='1-17', credits=1.0, total_hours=32, limit=40, selected_count=64, confirmed_count=0, class_time='[周次: [1, 2, 3, 4, 5, 6, 7, 8, 9, 10, 11, 12, 13, 14, 15, 16, 17] 星期: 三 (1-2节) 每周]', class_location='', syllabus='', teaching_calendar='', notes=''), Course(selection_number='18003177', course_name='[008201103109]体育(击剑)', campus='西海岸校区', teaching_method='讲授', instructor='初奕剑', start_week='1-17', credits=1.0, total_hours=32, limit=40, selected_count=61, confirmed_count=0, class_time='[周次: [1, 2, 3, 4, 5, 6, 7, 8, 9, 10, 11, 12, 13, 14, 15, 16, 17] 星期: 三 (3-4节) 每周]', class_location='', syllabus='', teaching_calendar='', notes=''), Course(selection_number='18003178', course_name='[008201103109]体育(击剑)', campus='西海岸校区', teaching_method='讲授', instructor='初奕剑', start_week='1-17', credits=1.0, total_hours=32, limit=40, selected_count=62, confirmed_count=0, class_time='[周次: [1, 2, 3, 4, 5, 6, 7, 8, 9, 10, 11, 12, 13, 14, 15, 16, 17] 星期: 三 (5-6节) 每周]', class_location='', syllabus='', teaching_calendar='', notes=''), Course(selection_number='18003280', course_name='[008201103116]体育（八段锦）', campus='西海岸校区', teaching_method='讲授', instructor='颜红英', start_week='1-17', credits=1.0, total_hours=32, limit=40, selected_count=88, confirmed_count=0, class_time='[周次: [1, 2, 3, 4, 5, 6, 7, 8, 9, 10, 11, 12, 13, 14, 15, 16, 17] 星期: 一 (1-2节) 每周]', class_location='', syllabus='', teaching_calendar='', notes=''), Course(selection_number='18003281', course_name='[008201103116]体育（八段锦）', campus='西海岸校区', teaching_method='讲授', instructor='颜红英', start_week='1-17', credits=1.0, total_hours=32, limit=40, selected_count=75, confirmed_count=0, class_time='[周次: [1, 2, 3, 4, 5, 6, 7, 8, 9, 10, 11, 12, 13, 14, 15, 16, 17] 星期: 一 (3-4节) 每周]', class_location='', syllabus='', teaching_calendar='', notes='')], [Course(selection_number='02003004', course_name='[080502201309]离散数学Ⅱ', campus='西海岸校区', teaching_method='讲授', instructor='马慧', start_week='1-17', credits=3.0, total_hours=52, limit=60, selected_count=106, confirmed_count=0, class_time='[周次: [1, 2, 3, 4, 5, 6, 7, 8, 9, 10, 11, 12, 13, 14, 15, 16, 17] 星期: 一 (3-4节) 每周, 周次: [1, 2, 3, 4, 5, 6, 7, 8, 9, 10, 11, 12, 13, 14, 15, 16, 17] 星期: 二 (1-2节) 每周]', class_location='南419/420', syllabus='', teaching_calendar='', notes='1-7周理论，12-15周实验，信息南楼C106'), Course(selection_number='02003112', course_name='[080502201309]离散数学Ⅱ', campus='西海岸校区', teaching_method='讲授', instructor='盛艳秀', start_week='1-17', credits=3.0, total_hours=52, limit=60, selected_count=60, confirmed_count=0, class_time='[周次: [1, 2, 3, 4, 5, 6, 7, 8, 9, 10, 11, 12, 13, 14, 15, 16, 17] 星期: 一 (3-4节) 每周, 周次: [1, 2, 3, 4, 5, 6, 7, 8, 9, 10, 11, 12, 13, 14, 15, 16, 17] 星期: 二 (1-2节) 每周]', class_location='南409/410', syllabus='', teaching_calendar='', notes='1-7周理论，12-15周实验，信息南楼B203'), Course(selection_number='02003113', course_name='[080502201309]离散数学Ⅱ', campus='西海岸校区', teaching_method='讲授', instructor='李岳尊', start_week='1-17', credits=3.0, total_hours=52, limit=60, selected_count=25, confirmed_count=0, class_time='[周次: [1, 2, 3, 4, 5, 6, 7, 8, 9, 10, 11, 12, 13, 14, 15, 16] 星期: 二 (1-2节) 每周, 周次: [1, 2, 3, 4, 5, 6, 7] 星期: 一 (3-4节) 每周, 周次: [12, 13, 14, 15] 星期: 一 (3-4节) 每周]', class_location='南434/433', syllabus='', teaching_calendar='', notes=''), Course(selection_number='02003115', course_name='[080502201309]离散数学Ⅱ', campus='西海岸校区', teaching_method='讲授', instructor='倪博煜', start_week='1-17', credits=3.0, total_hours=52, limit=60, selected_count=17, confirmed_count=0, class_time='[周次: [1, 2, 3, 4, 5, 6, 7, 8, 9, 10, 11, 12, 13, 14, 15, 16, 17] 星期: 一 (3-4节) 每周, 周次: [1, 2, 3, 4, 5, 6, 7, 8, 9, 10, 11, 12, 13, 14, 15, 16, 17] 星期: 二 (1-2节) 每周]', class_location='南415/416', syllabus='', teaching_calendar='', notes='1-7周理论，12-15周实验，信息南楼B219B223')], [Course(selection_number='02003003', course_name='[080502201205]计算机系统基础', campus='西海岸校区', teaching_method='讲授', instructor='蒋永国', start_week='1-17', credits=4.0, total_hours=80, limit=80, selected_count=91, confirmed_count=0, class_time='[周次: [1, 2, 3, 4, 5, 6, 7, 8, 9, 10, 11, 12, 13, 14, 15, 16, 17] 星期: 一 (7-9节) 每周, 周次: [1, 2, 3, 4, 5, 6, 7, 8, 9, 10, 11, 12, 13, 14, 15, 16, 17] 星期: 四 (1-2节) 每周]', class_location='南404/403', syllabus='', teaching_calendar='', notes=''), Course(selection_number='02003109', course_name='[080502201205]计算机系统基础', campus='西海岸校区', teaching_method='讲授', instructor='蔡青', start_week='1-17', credits=4.0, total_hours=80, limit=80, selected_count=83, confirmed_count=0, class_time='[周次: [1, 2, 3, 4, 5, 6, 7, 8, 9, 10, 11, 12, 13, 14, 15, 16, 17] 星期: 一 (7-9节) 每周, 周次: [1, 2, 3, 4, 5, 6, 7, 8, 9, 10, 11, 12, 13, 14, 15, 16, 17] 星期: 四 (1-2节) 每周]', class_location='南408/407', syllabus='', teaching_calendar='', notes=''), Course(selection_number='02003110', course_name='[080502201205]计算机系统基础', campus='西海岸校区', teaching_method='讲授', instructor='范浩', start_week='1-17', credits=4.0, total_hours=80, limit=80, selected_count=42, confirmed_count=0, class_time='[周次: [1, 2, 3, 4, 5, 6, 7, 8, 9, 10, 11, 12, 13, 14, 15, 16, 17] 星期: 一 (7-9节) 每周, 周次: [1, 2, 3, 4, 5, 6, 7, 8, 9, 10, 11, 12, 13, 14, 15, 16, 17] 星期: 二 (5-6节) 单周, 周次: [1, 2, 3, 4, 5, 6, 7, 8, 9, 10, 11, 12, 13, 14, 15, 16, 17] 星期: 二 (5-6节) 双周]', class_location='南415/416', syllabus='', teaching_calendar='', notes='7-8节理论，第9节实验，信息南楼C106(C102备用)'), Course(selection_number='02003111', course_name='[080502201205]计算机系统基础', campus='西海岸校区', teaching_method='讲授', instructor='宿浩', start_week='1-17', credits=4.0, total_hours=80, limit=80, selected_count=25, confirmed_count=0, class_time='[周次: [1, 2, 3, 4, 5, 6, 7, 8, 9, 10, 11, 12, 13, 14, 15, 16, 17] 星期: 一 (7-9节) 每周, 周次: [1, 2, 3, 4, 5, 6, 7, 8, 9, 10, 11, 12, 13, 14, 15, 16, 17] 星期: 二 (5-6节) 每周]', class_location='南409/410', syllabus='', teaching_calendar='', notes='')], [Course(selection_number='02003146', course_name='[080501301995]大学生职业发展教育Ⅲ', campus='西海岸校区', teaching_method='讲授', instructor='张翀岳', start_week='5-12', credits=1.0, total_hours=16, limit=80, selected_count=59, confirmed_count=0, class_time='[周次: [5, 6, 7, 8, 9, 10, 11, 12] 星期: 三 (10-11节) 每周]', class_location='', syllabus='', teaching_calendar='', notes='西海岸校区信南B103'), Course(selection_number='02003151', course_name='[080501301995]大学生职业发展教育Ⅲ', campus='西海岸校区', teaching_method='讲授', instructor='张翀岳', start_week='5-12', credits=1.0, total_hours=16, limit=80, selected_count=15, confirmed_count=0, class_time='[周次: [5, 6, 7, 8, 9, 10, 11, 12] 星期: 五 (10-11节) 每周]', class_location='', syllabus='', teaching_calendar='', notes='西海岸校区信南B103'), Course(selection_number='02003015', course_name='[080502101229]嵌入式系统', campus='西海岸校区', teaching_method='讲授', instructor='殷波', start_week='1-17', credits=2.5, total_hours=48, limit=30, selected_count=52, confirmed_count=0, class_time='[周次: [1, 2, 3, 4, 5, 6, 7, 8, 9, 10, 11, 12, 13, 14, 15, 16, 17] 星期: 一 (10-12节) 每周]', class_location='南419/420', syllabus='', teaching_calendar='', notes='实验在信息南楼C106'), Course(selection_number='02003013', course_name='[080502101239]计算机图形学', campus='西海岸校区', teaching_method='讲授', instructor='周佳然 秦勃', start_week='1-17', credits=3.0, total_hours=64, limit=30, selected_count=44, confirmed_count=0, class_time='[周次: [1, 2, 3, 4, 5, 6, 7, 8, 9, 10, 11, 12, 13, 14, 15, 16, 17] 星期: 一 (3-4节) 每周, 周次: [1, 2, 3, 4, 5, 6, 7, 8, 9, 10, 11, 12, 13, 14, 15, 16, 17] 星期: 一 (7-8节) 每周]', class_location='南422/421', syllabus='', teaching_calendar='', notes=''), Course(selection_number='02003125', course_name='[080502101345]人工智能导论', campus='西海岸校区', teaching_method='讲授', instructor='贺佩兰', start_week='1-17', credits=2.5, total_hours=48, limit=25, selected_count=62, confirmed_count=0, class_time='[周次: [1, 2, 3, 4, 5, 6, 7, 8, 9, 10, 11, 12, 13, 14, 15, 16, 17] 星期: 五 (1-2节) 双周, 周次: [1, 2, 3, 4, 5, 6, 7, 8, 9, 10, 11, 12, 13, 14, 15, 16, 17] 星期: 五 (5-6节) 双周, 周次: [1, 2, 3, 4, 5, 6, 7, 8, 9, 10, 11, 12, 13, 14, 15, 16, 17] 星期: 五 (5-6节) 单周]', class_location='', syllabus='', teaching_calendar='', notes='实验，信息南楼B223'), Course(selection_number='02003126', course_name='[080502101345]人工智能导论', campus='西海岸校区', teaching_method='讲授', instructor='徐建良', start_week='1-17', credits=2.5, total_hours=48, limit=25, selected_count=54, confirmed_count=0, class_time='[周次: [1, 2, 3, 4, 5, 6, 7, 8, 9, 10, 11, 12, 13, 14, 15, 16, 17] 星期: 五 (1-2节) 双周, 周次: [1, 2, 3, 4, 5, 6, 7, 8, 9, 10, 11, 12, 13, 14, 15, 16, 17] 星期: 五 (5-6节) 单周, 周次: [1, 2, 3, 4, 5, 6, 7, 8, 9, 10, 11, 12, 13, 14, 15, 16, 17] 星期: 五 (5-6节) 双周]', class_location='', syllabus='', teaching_calendar='', notes='实验，信息南楼B219'), Course(selection_number='02003022', course_name='[080502201323]信号与系统', campus='西海岸校区', teaching_method='讲授', instructor='亓林', start_week='1-17', credits=2.5, total_hours=48, limit=30, selected_count=50, confirmed_count=0, class_time='[周次: [1, 2, 3, 4, 5, 6, 7, 8, 9, 10, 11, 12, 13, 14, 15, 16, 17] 星期: 五 (7-9节) 每周]', class_location='南412/411', syllabus='', teaching_calendar='', notes='实验在信息南楼B219'), Course(selection_number='02003012', course_name='[080503201305]机器人学导论', campus='西海岸校区', teaching_method='讲授', instructor='梁馨月', start_week='1-17', credits=2.5, total_hours=48, limit=50, selected_count=37, confirmed_count=0, class_time='[周次: [1, 2, 3, 4, 5, 6, 7, 8, 9, 10, 11, 12, 13, 14, 15, 16, 17] 星期: 二 (7-9节) 每周]', class_location='', syllabus='', teaching_calendar='', notes='信息南楼B203'), Course(selection_number='02003037', course_name='[080504201315]Web框架编程', campus='西海岸校区', teaching_method='讲授', instructor='张树刚', start_week='1-17', credits=2.0, total_hours=48, limit=50, selected_count=109, confirmed_count=0, class_time='[周次: [1, 2, 3, 4, 5, 6, 7, 8, 9, 10, 11, 12, 13, 14, 15, 16, 17] 星期: 一 (7-9节) 每周]', class_location='南419/420', syllabus='', teaching_calendar='', notes='实验在信息南楼B227')]]\n"
     ]
    }
   ],
   "execution_count": 48
  },
  {
   "metadata": {
    "ExecuteTime": {
     "end_time": "2024-09-03T09:55:28.711750Z",
     "start_time": "2024-09-03T09:55:28.702401Z"
    }
   },
   "cell_type": "code",
   "source": [
    "importance_course = [\n",
    "    '离散数学',\n",
    "    '计算机系统基础',\n",
    "    '人工智能导论'\n",
    "    '机器人学导论'\n",
    "]\n",
    "\n",
    "unnecessary_course = [\n",
    "    '篮球',\n",
    "    '足球',\n",
    "    '跆拳道',\n",
    "]\n",
    "\n",
    "def is_in_course(target, course_list):\n",
    "    for temp_course in course_list:\n",
    "        if temp_course in target:\n",
    "            return True\n",
    "\n",
    "def limit_function(course):\n",
    "    \n",
    "    if is_in_course(course.course_name, importance_course):\n",
    "        return False\n",
    "    \n",
    "    # 不要的课\n",
    "    if is_in_course(course.course_name, unnecessary_course):\n",
    "        return True\n",
    "    \n",
    "    # 超人数 不选\n",
    "    if float(course.limit) < int(course.selected_count) * 1:\n",
    "        return True\n",
    "    \n",
    "    # 早八不选\n",
    "    for time in course.get_class_time_list():\n",
    "        if time.start_period == 1:\n",
    "            return False"
   ],
   "id": "b270f43367654055",
   "outputs": [],
   "execution_count": 53
  },
  {
   "metadata": {},
   "cell_type": "markdown",
   "source": "限制函数",
   "id": "688831136bb2a33b"
  },
  {
   "metadata": {
    "ExecuteTime": {
     "end_time": "2024-09-03T09:55:30.553247Z",
     "start_time": "2024-09-03T09:55:30.546598Z"
    }
   },
   "cell_type": "code",
   "source": [
    "table = CourseTable.calculate_course(courses_list, limit_function)\n",
    "table.print_courses()"
   ],
   "id": "cf6adf5cf06dc50b",
   "outputs": [
    {
     "name": "stdout",
     "output_type": "stream",
     "text": [
      "围棋与中国文化\n",
      "07001044 [周次: [1, 2, 3, 4, 5, 6, 7, 8, 9, 10, 11, 12, 13, 14, 15, 16, 17] 星期: 二 (3-4节) 每周]\n",
      "\n",
      "概率统计\n",
      "16001079 [周次: [1, 2, 3, 4, 5, 6, 7, 8, 9, 10, 11, 12, 13, 14, 15, 16, 17] 星期: 三 (1-2节) 每周, 周次: [1, 2, 3, 4, 5, 6, 7, 8, 9, 10, 11, 12, 13, 14, 15, 16, 17] 星期: 一 (5-6节) 每周]\n",
      "\n",
      "形势与政策-2024秋\n",
      "19000176 [周次: [7, 8, 9, 10] 星期: 日 (1-2节) 每周]\n",
      "\n",
      "毛泽东思想和中国特色社会主义理论体系概论\n",
      "19000017 [周次: [1, 2, 3, 4, 5, 6, 7, 8, 9, 10, 11, 12, 13, 14, 15, 16, 17] 星期: 三 (5-6节) 双周, 周次: [1, 2, 3, 4, 5, 6, 7, 8, 9, 10, 11, 12, 13, 14, 15, 16, 17] 星期: 三 (5-7节) 单周]\n",
      "\n",
      "体育(初级网球)\n",
      "18003238 [周次: [1, 2, 3, 4, 5, 6, 7, 8, 9, 10, 11, 12, 13, 14, 15, 16, 17] 星期: 二 (5-6节) 每周]\n",
      "\n",
      "离散数学Ⅱ\n",
      "02003004 [周次: [1, 2, 3, 4, 5, 6, 7, 8, 9, 10, 11, 12, 13, 14, 15, 16, 17] 星期: 一 (3-4节) 每周, 周次: [1, 2, 3, 4, 5, 6, 7, 8, 9, 10, 11, 12, 13, 14, 15, 16, 17] 星期: 二 (1-2节) 每周]\n",
      "\n",
      "计算机系统基础\n",
      "02003003 [周次: [1, 2, 3, 4, 5, 6, 7, 8, 9, 10, 11, 12, 13, 14, 15, 16, 17] 星期: 一 (7-9节) 每周, 周次: [1, 2, 3, 4, 5, 6, 7, 8, 9, 10, 11, 12, 13, 14, 15, 16, 17] 星期: 四 (1-2节) 每周]\n",
      "\n",
      "大学生职业发展教育Ⅲ\n",
      "02003146 [周次: [5, 6, 7, 8, 9, 10, 11, 12] 星期: 三 (10-11节) 每周]\n",
      "\n"
     ]
    }
   ],
   "execution_count": 54
  },
  {
   "metadata": {},
   "cell_type": "markdown",
   "source": "获得课程表",
   "id": "bd9c16167e5a4c63"
  },
  {
   "metadata": {
    "ExecuteTime": {
     "end_time": "2024-09-03T09:28:48.753120Z",
     "start_time": "2024-09-03T09:28:48.058552Z"
    }
   },
   "cell_type": "code",
   "source": [
    "common_params = FetcherParams()\n",
    "common_params.set_keyword('计算机系统基础')\n",
    "common_params.sel_nj = 2023\n",
    "\n",
    "result: list[Course] = course_fetcher.get_courses_by_params(common_params)\n",
    "\n",
    "for course in result:\n",
    "    print(course.get_class_time_list())"
   ],
   "id": "381eabf0ea9ea77b",
   "outputs": [
    {
     "name": "stdout",
     "output_type": "stream",
     "text": [
      "[周次: [1, 2, 3, 4, 5, 6, 7, 8, 9, 10, 11, 12, 13, 14, 15, 16, 17] 星期: 一 (7-9节) 每周, 周次: [1, 2, 3, 4, 5, 6, 7, 8, 9, 10, 11, 12, 13, 14, 15, 16, 17] 星期: 四 (1-2节) 每周]\n",
      "[周次: [1, 2, 3, 4, 5, 6, 7, 8, 9, 10, 11, 12, 13, 14, 15, 16, 17] 星期: 一 (7-9节) 每周, 周次: [1, 2, 3, 4, 5, 6, 7, 8, 9, 10, 11, 12, 13, 14, 15, 16, 17] 星期: 四 (1-2节) 每周]\n",
      "[周次: [1, 2, 3, 4, 5, 6, 7, 8, 9, 10, 11, 12, 13, 14, 15, 16, 17] 星期: 一 (7-9节) 每周, 周次: [1, 2, 3, 4, 5, 6, 7, 8, 9, 10, 11, 12, 13, 14, 15, 16, 17] 星期: 二 (5-6节) 单周, 周次: [1, 2, 3, 4, 5, 6, 7, 8, 9, 10, 11, 12, 13, 14, 15, 16, 17] 星期: 二 (5-6节) 双周]\n",
      "[周次: [1, 2, 3, 4, 5, 6, 7, 8, 9, 10, 11, 12, 13, 14, 15, 16, 17] 星期: 一 (7-9节) 每周, 周次: [1, 2, 3, 4, 5, 6, 7, 8, 9, 10, 11, 12, 13, 14, 15, 16, 17] 星期: 二 (5-6节) 每周]\n"
     ]
    }
   ],
   "execution_count": 23
  }
 ],
 "metadata": {
  "kernelspec": {
   "display_name": "Python 3",
   "language": "python",
   "name": "python3"
  },
  "language_info": {
   "codemirror_mode": {
    "name": "ipython",
    "version": 2
   },
   "file_extension": ".py",
   "mimetype": "text/x-python",
   "name": "python",
   "nbconvert_exporter": "python",
   "pygments_lexer": "ipython2",
   "version": "2.7.6"
  }
 },
 "nbformat": 4,
 "nbformat_minor": 5
}
