{
 "cells": [
  {
   "metadata": {
    "ExecuteTime": {
     "end_time": "2024-09-03T03:03:01.407638Z",
     "start_time": "2024-09-03T03:03:00.823133Z"
    }
   },
   "cell_type": "code",
   "source": [
    "from ouc_course_tool import *\n",
    "from ouc_course_tool.core import search_param_handle\n",
    "from tests.test_config import ConfigOfTest"
   ],
   "id": "37aeed355a6062c4",
   "outputs": [],
   "execution_count": 1
  },
  {
   "metadata": {},
   "cell_type": "markdown",
   "source": "导入包",
   "id": "db757333283b61a5"
  },
  {
   "metadata": {
    "collapsed": true,
    "ExecuteTime": {
     "end_time": "2024-09-03T03:03:01.417510Z",
     "start_time": "2024-09-03T03:03:01.412133Z"
    }
   },
   "cell_type": "code",
   "source": [
    "test_config = ConfigOfTest('./tests/test_resource/account_local.ini')\n",
    "tesseract_cmd_path = 'D:/Tools/Tesseract/tesseract.exe'\n",
    "\n",
    "login_config = LoginConfig(test_config.get_username(), test_config.get_password(), tesseract_cmd_path)"
   ],
   "id": "initial_id",
   "outputs": [],
   "execution_count": 2
  },
  {
   "metadata": {},
   "cell_type": "markdown",
   "source": [
    "设置 Tesseract 图片识别软件\n",
    "EXAMPLE DOWNLOAD URL: https://digi.bib.uni-mannheim.de/tesseract/tesseract-ocr-w64-setup-5.3.4.20240503.exe\n",
    "\n",
    "设置 全局变量（包括账号和密码）\n",
    "设置 登录配置\n"
   ],
   "id": "f792c3011f1d5b45"
  },
  {
   "metadata": {
    "ExecuteTime": {
     "end_time": "2024-09-03T03:03:03.431908Z",
     "start_time": "2024-09-03T03:03:01.677355Z"
    }
   },
   "cell_type": "code",
   "source": [
    "session_id = AccountValidation(login_config).get_login_session_id()\n",
    "print(session_id)"
   ],
   "id": "c31a4020a3b01217",
   "outputs": [
    {
     "name": "stdout",
     "output_type": "stream",
     "text": [
      "Start login http://jwgl.ouc.edu.cn/cas/logon.action\n",
      "End login http://jwgl.ouc.edu.cn/cas/logon.action\n",
      "Start login http://jwgl.ouc.edu.cn/cas/logon.action\n",
      "End login http://jwgl.ouc.edu.cn/cas/logon.action\n",
      "756A6EBA7CD982EF2C99CE713C7BCFB6\n"
     ]
    }
   ],
   "execution_count": 3
  },
  {
   "metadata": {},
   "cell_type": "markdown",
   "source": "获取登录 ID",
   "id": "4f10a81a39de5596"
  },
  {
   "metadata": {
    "ExecuteTime": {
     "end_time": "2024-09-03T03:03:03.449563Z",
     "start_time": "2024-09-03T03:03:03.441482Z"
    }
   },
   "cell_type": "code",
   "source": [
    "fetcher_params = FetcherParams(\n",
    "    xnxq=\"2024-1\", kcfw=\"PublicBasic\", sel_schoolarea=\"3\", sel_kc=\"概率\",\n",
    ").to_dict()\n",
    "print(fetcher_params)\n",
    "fetcher_config = FetcherConfig(session_id=session_id, params=fetcher_params)\n",
    "course_fetcher = CourseFetcher(config=fetcher_config)\n"
   ],
   "id": "4e1379036780659f",
   "outputs": [
    {
     "name": "stdout",
     "output_type": "stream",
     "text": [
      "{'initQry': '0', 'xktype': '2', 'xh': '230000000', 'xn': '2024', 'xq': '1', 'nj': '2023', 'zydm': '0150', 'items': '', 'xnxq': '2024-1', 'kcfw': 'PublicBasic', 'sel_nj': '2022', 'sel_zydm': '0150', 'sel_schoolarea': '3', 'sel_cddwdm': '', 'sel_kc': b'\\xb8\\xc5\\xc2\\xca', 'kcmc': ''}\n"
     ]
    }
   ],
   "execution_count": 4
  },
  {
   "metadata": {},
   "cell_type": "markdown",
   "source": "设置 搜索配置",
   "id": "d51d9f1c6a4eda34"
  },
  {
   "metadata": {
    "ExecuteTime": {
     "end_time": "2024-09-03T03:06:29.680620Z",
     "start_time": "2024-09-03T03:06:28.942412Z"
    }
   },
   "cell_type": "code",
   "source": [
    "course_fetcher.config.set_params(fetcher_params)\n",
    "result = course_fetcher.get_all_courses_from_all_page()\n",
    "print(result)"
   ],
   "id": "ba5abe41ac9c3629",
   "outputs": [
    {
     "name": "stdout",
     "output_type": "stream",
     "text": [
      "Start get html http://jwgl.ouc.edu.cn/taglib/DataTable.jsp?tableId=6146\n",
      "End get html http://jwgl.ouc.edu.cn/taglib/DataTable.jsp?tableId=6146\n",
      "Start get html http://jwgl.ouc.edu.cn/taglib/DataTable.jsp?tableId=6146\n",
      "End get html http://jwgl.ouc.edu.cn/taglib/DataTable.jsp?tableId=6146\n",
      "[Course(selection_number='16001079', course_name='[008401101063]概率统计', campus='西海岸校区', teaching_method='讲授', instructor='王雯', start_week='1-17', credits=4.0, total_hours=64, limit=120, selected_count=39, confirmed_count=0, class_time='['1-17周 三(1-2节)', '1-17周 一(5-6节)']', class_location='南506/505', syllabus='', teaching_calendar='', notes=''), Course(selection_number='16001080', course_name='[008401101063]概率统计', campus='西海岸校区', teaching_method='讲授', instructor='王雯', start_week='1-17', credits=4.0, total_hours=64, limit=120, selected_count=65, confirmed_count=0, class_time='['1-17周 一(7-8节)', '1-17周 三(3-4节)']', class_location='南506/505', syllabus='', teaching_calendar='', notes=''), Course(selection_number='16001081', course_name='[008401101063]概率统计', campus='西海岸校区', teaching_method='讲授', instructor='董冉', start_week='1-17', credits=4.0, total_hours=64, limit=120, selected_count=84, confirmed_count=0, class_time='['1-17周 二(1-2节)', '1-17周 五(1-2节)']', class_location='南506/505', syllabus='', teaching_calendar='', notes=''), Course(selection_number='16001082', course_name='[008401101063]概率统计', campus='西海岸校区', teaching_method='讲授', instructor='董冉', start_week='1-17', credits=4.0, total_hours=64, limit=120, selected_count=102, confirmed_count=0, class_time='['1-17周 五(3-4节)', '1-17周 二(3-4节)']', class_location='南506/505', syllabus='', teaching_calendar='', notes=''), Course(selection_number='16001083', course_name='[008401101063]概率统计', campus='西海岸校区', teaching_method='讲授', instructor='陈颖谷', start_week='1-17', credits=4.0, total_hours=64, limit=120, selected_count=52, confirmed_count=0, class_time='['1-17周 四(1-2节)', '1-17周 二(1-2节)']', class_location='南306/305', syllabus='', teaching_calendar='', notes=''), Course(selection_number='16001084', course_name='[008401101063]概率统计', campus='西海岸校区', teaching_method='讲授', instructor='陈颖谷', start_week='1-17', credits=4.0, total_hours=64, limit=120, selected_count=54, confirmed_count=0, class_time='['1-17周 二(3-4节)', '1-17周 四(3-4节)']', class_location='南306/305', syllabus='', teaching_calendar='', notes=''), Course(selection_number='16001085', course_name='[008401101063]概率统计', campus='西海岸校区', teaching_method='讲授', instructor='张志朋', start_week='1-17', credits=4.0, total_hours=64, limit=120, selected_count=9, confirmed_count=0, class_time='['1-17周 二(1-2节)', '1-17周 四(1-2节)']', class_location='南304/303', syllabus='', teaching_calendar='', notes=''), Course(selection_number='16001086', course_name='[008401101063]概率统计', campus='西海岸校区', teaching_method='讲授', instructor='张志朋', start_week='1-17', credits=4.0, total_hours=64, limit=120, selected_count=20, confirmed_count=0, class_time='['1-17周 四(3-4节)', '1-17周 二(3-4节)']', class_location='南304/303', syllabus='', teaching_calendar='', notes=''), Course(selection_number='16001087', course_name='[008401101063]概率统计', campus='西海岸校区', teaching_method='讲授', instructor='卢春阁', start_week='1-17', credits=4.0, total_hours=64, limit=120, selected_count=126, confirmed_count=0, class_time='['1-17周 四(1-2节)', '1-17周 二(1-2节)']', class_location='南105/104', syllabus='', teaching_calendar='', notes=''), Course(selection_number='16001088', course_name='[008401101063]概率统计', campus='西海岸校区', teaching_method='讲授', instructor='卢春阁', start_week='1-17', credits=4.0, total_hours=64, limit=120, selected_count=130, confirmed_count=0, class_time='['1-17周 二(3-4节)', '1-17周 四(3-4节)']', class_location='南105/104', syllabus='', teaching_calendar='', notes='')]\n"
     ]
    }
   ],
   "execution_count": 12
  },
  {
   "metadata": {},
   "cell_type": "markdown",
   "source": "获得 所有搜索结果",
   "id": "bc87e6f9d4469640"
  },
  {
   "metadata": {
    "ExecuteTime": {
     "end_time": "2024-09-03T03:03:04.242747Z",
     "start_time": "2024-09-03T03:03:04.239061Z"
    }
   },
   "cell_type": "code",
   "source": [
    "target_course = [\n",
    "    '概率-公共',\n",
    "    # '形势与政策-公共',\n",
    "    # '毛泽东思想-公共',\n",
    "    # '体育-公共',\n",
    "    # '离散数学-智能科学-2023',\n",
    "    # '计算机系统基础-智能科学-2023',\n",
    "    # '大学生职业发展教育-智能科学-2023',\n",
    "    # '人工智能导论-智能科学-2022'\n",
    "    # '计算机图形学-智能科学-2022'\n",
    "]"
   ],
   "id": "f709d8ca614ecb3e",
   "outputs": [],
   "execution_count": 6
  },
  {
   "metadata": {},
   "cell_type": "markdown",
   "source": "目标选课",
   "id": "d699d3dd16c0dda0"
  },
  {
   "metadata": {
    "ExecuteTime": {
     "end_time": "2024-09-03T03:03:04.258396Z",
     "start_time": "2024-09-03T03:03:04.253518Z"
    }
   },
   "cell_type": "code",
   "source": [
    "select_params = search_param_handle(target_course, 3, '2024-1')\n",
    "print(select_params)"
   ],
   "id": "b270f43367654055",
   "outputs": [
    {
     "name": "stdout",
     "output_type": "stream",
     "text": [
      "[QueryParameters(initQry=0, xktype=2, xh='230000000', xn='2024', xq=1, nj='2023', zydm='0150', items='', xnxq='2024-1', kcfw='PublicBasic', sel_nj='2022', sel_zydm='0150', sel_schoolarea='3', sel_cddwdm='', sel_kc='b'\\xb8\\xc5\\xc2\\xca'', kcmc='')]\n"
     ]
    }
   ],
   "execution_count": 7
  },
  {
   "metadata": {
    "ExecuteTime": {
     "end_time": "2024-09-03T03:04:45.017206Z",
     "start_time": "2024-09-03T03:04:44.650900Z"
    }
   },
   "cell_type": "code",
   "source": [
    "result = course_fetcher.get_courses_from_mul_params(select_params)\n",
    "print(result)"
   ],
   "id": "cf6adf5cf06dc50b",
   "outputs": [
    {
     "name": "stdout",
     "output_type": "stream",
     "text": [
      "Start get html http://jwgl.ouc.edu.cn/taglib/DataTable.jsp?tableId=6146\n",
      "End get html http://jwgl.ouc.edu.cn/taglib/DataTable.jsp?tableId=6146\n",
      "[]\n"
     ]
    }
   ],
   "execution_count": 9
  },
  {
   "metadata": {
    "ExecuteTime": {
     "end_time": "2024-09-03T03:03:04.574453Z",
     "start_time": "2024-09-03T03:03:04.571457Z"
    }
   },
   "cell_type": "code",
   "source": "",
   "id": "381eabf0ea9ea77b",
   "outputs": [],
   "execution_count": null
  }
 ],
 "metadata": {
  "kernelspec": {
   "display_name": "Python 3",
   "language": "python",
   "name": "python3"
  },
  "language_info": {
   "codemirror_mode": {
    "name": "ipython",
    "version": 2
   },
   "file_extension": ".py",
   "mimetype": "text/x-python",
   "name": "python",
   "nbconvert_exporter": "python",
   "pygments_lexer": "ipython2",
   "version": "2.7.6"
  }
 },
 "nbformat": 4,
 "nbformat_minor": 5
}
